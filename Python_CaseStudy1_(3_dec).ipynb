{
  "nbformat": 4,
  "nbformat_minor": 0,
  "metadata": {
    "colab": {
      "provenance": []
    },
    "kernelspec": {
      "name": "python3",
      "display_name": "Python 3"
    },
    "language_info": {
      "name": "python"
    }
  },
  "cells": [
    {
      "cell_type": "markdown",
      "source": [
        "**1. Grocery Store Bill Calculator\n",
        "A grocery store wants a program to calculate the total bill for a customer**"
      ],
      "metadata": {
        "id": "iiIAUuTC1knl"
      }
    },
    {
      "cell_type": "markdown",
      "source": [
        " **a.** Store the prices of items in a dictionary (e.g., {'apple': 10, 'milk': 50})\n",
        "\n"
      ],
      "metadata": {
        "id": "r5XJGh7r2WqN"
      }
    },
    {
      "cell_type": "code",
      "source": [
        "groceries={'Apple':10,'Milk':50,'Orange':20,'Sweets':5,\"Carrot\":45,\"Egg\":100,\"Chocolate\":250}\n",
        "print(\"Available groceries:\",groceries)"
      ],
      "metadata": {
        "colab": {
          "base_uri": "https://localhost:8080/"
        },
        "id": "t22NnUYE2hAu",
        "outputId": "2f3ee967-07e8-4c20-eb8f-ddd005b2019d"
      },
      "execution_count": 76,
      "outputs": [
        {
          "output_type": "stream",
          "name": "stdout",
          "text": [
            "Available groceries: {'Apple': 10, 'Milk': 50, 'Orange': 20, 'Sweets': 5, 'Carrot': 45, 'Egg': 100, 'Chocolate': 250}\n"
          ]
        }
      ]
    },
    {
      "cell_type": "markdown",
      "source": [
        "**b**. Take the items purchased and their quantities as input.\n"
      ],
      "metadata": {
        "id": "IabiydhW48Mz"
      }
    },
    {
      "cell_type": "code",
      "source": [
        "items = {}\n",
        "total_bill = 0\n",
        "num = int(input(\"\\nEnter the number to purchase: \"))\n",
        "for i in range(num):\n",
        "    item_purchased = input(\"Enter the item name: \").capitalize()\n",
        "    quantities = int(input(\"Enter the quantity : \"))\n",
        "    if item_purchased in groceries:\n",
        "        total_price = groceries[item_purchased] * quantities\n",
        "        total_bill += total_price\n",
        "        if item_purchased in items:\n",
        "            items[item_purchased] += quantities\n",
        "        else:\n",
        "            items[item_purchased] = quantities\n",
        "    else:\n",
        "        print(f\"{item_purchased} is not available.\")\n",
        "print(\"\\nPurchased Items:\")\n",
        "for item, quantity in items.items():\n",
        "    print(f\"{item}: {quantity}\")"
      ],
      "metadata": {
        "id": "5YtSqZGe41WH",
        "colab": {
          "base_uri": "https://localhost:8080/"
        },
        "outputId": "a5e24296-9d5a-4e3b-968c-11aab0faeb40"
      },
      "execution_count": 78,
      "outputs": [
        {
          "output_type": "stream",
          "name": "stdout",
          "text": [
            "\n",
            "Enter the number to purchase: 4\n",
            "Enter the item name: Egg\n",
            "Enter the quantity : 20\n",
            "Enter the item name: Tomato\n",
            "Enter the quantity : 50\n",
            "Tomato is not available.\n",
            "Enter the item name: Chocolate\n",
            "Enter the quantity : 2\n",
            "Enter the item name: Apple\n",
            "Enter the quantity : 10\n",
            "\n",
            "Purchased Items:\n",
            "Egg: 20\n",
            "Chocolate: 2\n",
            "Apple: 10\n"
          ]
        }
      ]
    },
    {
      "cell_type": "markdown",
      "source": [
        "**c**. Calculate and display the total bill amount."
      ],
      "metadata": {
        "id": "dYQVDJy9B9yO"
      }
    },
    {
      "cell_type": "code",
      "source": [
        "print(\"\\nTotal Bill Amount:\", total_bill)\n"
      ],
      "metadata": {
        "colab": {
          "base_uri": "https://localhost:8080/"
        },
        "id": "RxWe8wLACBIz",
        "outputId": "25c0f6cf-b256-4dd0-b586-4ea4fa88b233"
      },
      "execution_count": 79,
      "outputs": [
        {
          "output_type": "stream",
          "name": "stdout",
          "text": [
            "\n",
            "Total Bill Amount: 2600\n"
          ]
        }
      ]
    },
    {
      "cell_type": "markdown",
      "source": [
        "**2. Student Grade Calculator\n",
        "A teacher wants a program to calculate grades for students based on their marks.**"
      ],
      "metadata": {
        "id": "I5S_3DOBRYFb"
      }
    },
    {
      "cell_type": "markdown",
      "source": [
        "**a.** Store marks for 5 subjects in a list."
      ],
      "metadata": {
        "id": "JGuOQm_eR47q"
      }
    },
    {
      "cell_type": "code",
      "source": [
        "list_marks=[]\n",
        "for i in range(1,6):\n",
        "  mark=float(input(\"Enter the mark: \"))\n",
        "  list_marks.append(mark)\n",
        "print(list_marks)\n"
      ],
      "metadata": {
        "colab": {
          "base_uri": "https://localhost:8080/"
        },
        "id": "FIYLlZa_LV_5",
        "outputId": "1701e3ac-02db-45a6-b931-cc32e544c070"
      },
      "execution_count": 60,
      "outputs": [
        {
          "output_type": "stream",
          "name": "stdout",
          "text": [
            "Enter the mark: 85.6\n",
            "Enter the mark: 98.4\n",
            "Enter the mark: 33.3\n",
            "Enter the mark: 58\n",
            "Enter the mark: 78.6\n",
            "[85.6, 98.4, 33.3, 58.0, 78.6]\n"
          ]
        }
      ]
    },
    {
      "cell_type": "markdown",
      "source": [
        "**b.** Calculate the average and determine the grade:\n",
        "* 90+ -> A\n",
        "* 70-89 -> B\n",
        "* 50-69 -> C\n",
        "* <50 -> F"
      ],
      "metadata": {
        "id": "eAJ_P7dIiu2w"
      }
    },
    {
      "cell_type": "code",
      "source": [
        "total_mark=sum(list_marks)\n",
        "average=total_mark/5\n",
        "if average>=90:\n",
        "  grade=\"A\"\n",
        "elif average>=70 and average<=89:\n",
        "  grade=\"B\"\n",
        "elif average>=50 and average<=69:\n",
        "  grade=\"C\"\n",
        "else:\n",
        "  grade=\"D\""
      ],
      "metadata": {
        "id": "5AuhG6WCSZE-"
      },
      "execution_count": 61,
      "outputs": []
    },
    {
      "cell_type": "markdown",
      "source": [
        "**c.** Display the average and the grade."
      ],
      "metadata": {
        "id": "6V8fkVqTj_A-"
      }
    },
    {
      "cell_type": "code",
      "source": [
        "print(f\"\\nTotal Marks: {total_mark}\")\n",
        "print(f\"Average Marks: {average}\")\n",
        "print(f\"Grade: {grade}\")"
      ],
      "metadata": {
        "colab": {
          "base_uri": "https://localhost:8080/"
        },
        "id": "XpZvL-MdkFu4",
        "outputId": "9f4ce435-23bf-45dd-bfe4-be2b7dd26161"
      },
      "execution_count": 62,
      "outputs": [
        {
          "output_type": "stream",
          "name": "stdout",
          "text": [
            "\n",
            "Total Marks: 353.9\n",
            "Average Marks: 70.78\n",
            "Grade: B\n"
          ]
        }
      ]
    },
    {
      "cell_type": "markdown",
      "source": [
        "**3. A movie theatre wants to automate ticket booking for customers.**"
      ],
      "metadata": {
        "id": "XSrnRrpBqCv5"
      }
    },
    {
      "cell_type": "markdown",
      "source": [
        "**a.** Use a list to store the available seats (e.g., [1, 2, 3, ..., 20])."
      ],
      "metadata": {
        "id": "P6ysxDAcqRwh"
      }
    },
    {
      "cell_type": "code",
      "source": [
        "availableSeats=[]\n",
        "for i in range(1,21):\n",
        "  availableSeats.append(i)\n",
        "print(availableSeats)"
      ],
      "metadata": {
        "colab": {
          "base_uri": "https://localhost:8080/"
        },
        "id": "SBE2zdCVqKUc",
        "outputId": "d9d12065-da7d-4d95-ed76-a5fe7c63de0a"
      },
      "execution_count": 72,
      "outputs": [
        {
          "output_type": "stream",
          "name": "stdout",
          "text": [
            "[1, 2, 3, 4, 5, 6, 7, 8, 9, 10, 11, 12, 13, 14, 15, 16, 17, 18, 19, 20]\n"
          ]
        }
      ]
    },
    {
      "cell_type": "markdown",
      "source": [
        "**b.** Allow the customer to book a seat by entering the seat number."
      ],
      "metadata": {
        "id": "XdKN-YaOue0h"
      }
    },
    {
      "cell_type": "code",
      "source": [
        "seat_number=int(input(\"Enter the seat number: \"))"
      ],
      "metadata": {
        "colab": {
          "base_uri": "https://localhost:8080/"
        },
        "id": "ZOgMiWWUkYLk",
        "outputId": "42559230-3269-41cd-faf6-05b491812dc8"
      },
      "execution_count": 73,
      "outputs": [
        {
          "name": "stdout",
          "output_type": "stream",
          "text": [
            "Enter the seat number: 20\n"
          ]
        }
      ]
    },
    {
      "cell_type": "markdown",
      "source": [
        "**c.** After booking, remove the seat from the list of available seats."
      ],
      "metadata": {
        "id": "cdn0aeClvREX"
      }
    },
    {
      "cell_type": "code",
      "source": [
        "if seat_number in availableSeats:\n",
        "  availableSeats.remove(seat_number)\n",
        "  print(f\"Seat {seat_number} has been successfully booked.\")\n",
        "else:\n",
        "    print(f\"seat {seat_number} is not available.\")\n"
      ],
      "metadata": {
        "colab": {
          "base_uri": "https://localhost:8080/"
        },
        "id": "ZkIeKdHWvXYh",
        "outputId": "b8e58d09-af6e-4b19-c568-8c7d16ca00af"
      },
      "execution_count": 74,
      "outputs": [
        {
          "output_type": "stream",
          "name": "stdout",
          "text": [
            "Seat 20 has been successfully booked.\n"
          ]
        }
      ]
    },
    {
      "cell_type": "markdown",
      "source": [
        "**d.**Display the remaining available seats.\n",
        "\n",
        "\n"
      ],
      "metadata": {
        "id": "3VElCv67vWLF"
      }
    },
    {
      "cell_type": "code",
      "source": [
        "print(f\"Remaining seats: {availableSeats}\")\n"
      ],
      "metadata": {
        "colab": {
          "base_uri": "https://localhost:8080/"
        },
        "id": "WxEd5sDZwTrg",
        "outputId": "30c878ba-4710-4548-a025-b9314b1328c1"
      },
      "execution_count": 75,
      "outputs": [
        {
          "output_type": "stream",
          "name": "stdout",
          "text": [
            "Remaining seats: [1, 2, 3, 4, 5, 6, 7, 8, 9, 10, 11, 12, 13, 14, 15, 16, 17, 18, 19]\n"
          ]
        }
      ]
    }
  ]
}